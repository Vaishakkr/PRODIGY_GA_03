{
  "nbformat": 4,
  "nbformat_minor": 0,
  "metadata": {
    "colab": {
      "provenance": []
    },
    "kernelspec": {
      "name": "python3",
      "display_name": "Python 3"
    },
    "language_info": {
      "name": "python"
    }
  },
  "cells": [
    {
      "cell_type": "code",
      "source": [
        "import numpy as np\n",
        "import random\n",
        "\n",
        "def preprocess_text(text):\n",
        "    text = text.lower()\n",
        "    text = ''.join([c if c.isalnum() or c.isspace() else ' ' for c in text])\n",
        "    return text\n",
        "\n",
        "def build_markov_chain(text, n=2):\n",
        "    words = text.split()\n",
        "    markov_chain = {}\n",
        "    for i in range(len(words) - n):\n",
        "        key = tuple(words[i:i + n - 1])\n",
        "        next_word = words[i + n - 1]\n",
        "        if key not in markov_chain:\n",
        "            markov_chain[key] = []\n",
        "        markov_chain[key].append(next_word)\n",
        "    return markov_chain\n",
        "\n",
        "def generate_text(markov_chain, n=2, length=100):\n",
        "    current_tuple = random.choice(list(markov_chain.keys()))\n",
        "    generated_words = list(current_tuple)\n",
        "    for _ in range(length - n + 1):\n",
        "        possible_next_words = markov_chain.get(current_tuple, [])\n",
        "        if not possible_next_words:\n",
        "            break\n",
        "        next_word = random.choice(possible_next_words)\n",
        "        generated_words.append(next_word)\n",
        "        current_tuple = tuple(generated_words[-(n-1):])\n",
        "    return ' '.join(generated_words)\n",
        "\n",
        "sample_text = \"\"\"\n",
        "Artificial intelligence (AI) refers to the simulation of human intelligence in machines that are programmed to think and act like humans. The term may also be applied to any machine that exhibits traits associated with a human mind such as learning and problem-solving. As AI continues to grow in capabilities, its impact on society is becoming increasingly significant. From improving healthcare outcomes to enhancing productivity in industries such as manufacturing and transportation, AI is revolutionizing the way we live and work. With advances in machine learning and deep learning, AI systems are becoming more adept at performing tasks traditionally reserved for humans, such as recognizing patterns, making decisions, and processing natural language.\n",
        "\"\"\"\n",
        "\n",
        "user_prompt = input(\"Enter your text prompt: \")\n",
        "\n",
        "user_prompt = preprocess_text(user_prompt)\n",
        "\n",
        "full_text = sample_text + \" \" + user_prompt  # Combining sample text with user input for better generation\n",
        "\n",
        "markov_chain = build_markov_chain(full_text, n=2)\n",
        "generated_text = generate_text(markov_chain, n=2, length=100)\n",
        "print(\"Generated Text:\")\n",
        "print(generated_text)\n"
      ],
      "metadata": {
        "colab": {
          "base_uri": "https://localhost:8080/"
        },
        "id": "4Tr6s8Ke25xj",
        "outputId": "a3895eac-39fe-4fa6-bc2c-ff187e0d2854"
      },
      "execution_count": 4,
      "outputs": [
        {
          "output_type": "stream",
          "name": "stdout",
          "text": [
            "Enter your text prompt: Artificial intelligence is revolutionizing healthcare and technology. Its impact is seen in\n",
            "Generated Text:\n",
            "mind such as recognizing patterns, making decisions, and problem-solving. As AI is revolutionizing the simulation of human intelligence in industries such as recognizing patterns, making decisions, and work. With advances in capabilities, its impact is becoming more adept at performing tasks traditionally reserved for humans, such as recognizing patterns, making decisions, and problem-solving. As AI systems are programmed to any machine learning and work. With advances in machines that exhibits traits associated with a human mind such as manufacturing and technology its impact is seen\n"
          ]
        }
      ]
    },
    {
      "cell_type": "code",
      "source": [],
      "metadata": {
        "id": "dkN5Bone3Nyw"
      },
      "execution_count": null,
      "outputs": []
    }
  ]
}